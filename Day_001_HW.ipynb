{
 "cells": [
  {
   "cell_type": "markdown",
   "metadata": {},
   "source": [
<<<<<<< HEAD
    "## 練習時間\n",
    "#### 請寫一個函式用來計算 Mean Square Error\n",
    "$ MSE = \\frac{1}{n}\\sum_{i=1}^{n}{(Y_i - \\hat{Y}_i)^2} $\n",
    "\n",
    "### Hint: [如何取平方](https://googoodesign.gitbooks.io/-ezpython/unit-1.html)"
   ]
  },
  {
   "cell_type": "code",
   "execution_count": null,
   "metadata": {},
   "outputs": [],
   "source": [
    "import numpy as np\n",
    "import matplotlib.pyplot as plt"
=======
    "# 作業1：\n",
    "\n",
    "1. 你選的這組資料為何重要\n",
    "\n",
    "    Q:\thttps://www.kaggle.com/c/mercari-price-suggestion-challenge \n",
    "\t\t維持一個商場營運必先確保商品上的物品有效賣出，依照不同時機給予賣家良好的價格建議是不錯的方法之一。\n",
    "        \n",
    "2. 資料從何而來 (tips: 譬如提供者是誰、以什麼方式蒐集)\n",
    "\n",
    "\tQ:    Mercari \n",
    "    \n",
    "3. 蒐集而來的資料型態為何\n",
    "\n",
    "\tQ:    csv,tsv\n",
    "    \n",
    "4. 這組資料想解決的問題如何評估\n",
    "\n",
    "\tQ:評估度量是均方根對數誤差 \n",
    "\n",
    "# 作業2：\n",
    "\n",
    "想像你經營一個自由載客車隊，你希望能透過數據分析以提升業績，請你思考並描述你如何規劃整體的分析/解決方案：\n",
    "\n",
    "1. 核心問題為何 (tips：如何定義 「提升業績 & 你的假設」)\n",
    "\n",
    "\tQ:\t車隊載客地點人潮?\n",
    "\t\t該地區是否有舉辦活動?時間為何?\n",
    "\t\t\n",
    "2. 資料從何而來 (tips：哪些資料可能會對你想問的問題產生影響 & 資料如何蒐集)\n",
    "\n",
    "\tQ:\t影響該業績因素:天氣、時段、附近活動\n",
    "\t\t活動地點以定位座標文字，時段以文字，天氣分為<晴天/雨天>bool文字表示匯製成csv資料檔\n",
    "        \n",
    "3. 蒐集而來的資料型態為何\n",
    "\n",
    "\tQ:\tcsv文字檔\n",
    "    \n",
    "    \n",
    "4. 你要回答的問題，其如何評估 (tips：你的假設如何驗證)\n",
    "\n",
    "\tQ: 維持一個月資料作為評估，以週為單位(天氣/活動/時段)評估個別資料對業績的影響"
   ]
  },
  {
   "cell_type": "markdown",
   "metadata": {},
   "source": [
    "# 作業3\n",
    "請寫一個函式用來計算 Mean Square Error\n",
    "$ MSE = \\frac{1}{n}\\sum_{i=1}^{n}{(Y_i - \\hat{Y}_i)^2} $\n",
    "\n",
    " Hint: [如何取平方](https://googoodesign.gitbooks.io/-ezpython/unit-1.html)"
>>>>>>> 3ec3037df420fe804586172d726c2442227f9315
   ]
  },
  {
   "cell_type": "code",
<<<<<<< HEAD
   "execution_count": null,
   "metadata": {},
   "outputs": [],
   "source": [
    "def mean_squared_error():\n",
    "    \"\"\"\n",
    "    請完成這個 Function 後往下執行\n",
    "    \"\"\"\n"
=======
   "execution_count": 1,
   "metadata": {},
   "outputs": [],
   "source": [
    "import numpy as np\n",
    "import matplotlib.pyplot as plt"
>>>>>>> 3ec3037df420fe804586172d726c2442227f9315
   ]
  },
  {
   "cell_type": "code",
<<<<<<< HEAD
   "execution_count": null,
   "metadata": {},
   "outputs": [],
=======
   "execution_count": 2,
   "metadata": {},
   "outputs": [
    {
     "data": {
      "image/png": "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\n",
      "text/plain": [
       "<Figure size 432x288 with 1 Axes>"
      ]
     },
     "metadata": {
      "needs_background": "light"
     },
     "output_type": "display_data"
    }
   ],
>>>>>>> 3ec3037df420fe804586172d726c2442227f9315
   "source": [
    "w = 3\n",
    "b = 0.5\n",
    "\n",
<<<<<<< HEAD
    "x_lin = np.linspace(0, 100, 101)\n",
    "\n",
    "y = (x_lin + np.random.randn(101) * 5) * w + b\n",
=======
    "x_lin = np.linspace(0, 100, 101)#0-100 取101個資料\n",
    "\n",
    "y = (x_lin + np.random.randn(101) * 5) * w + b # .rand [0-1]的數，.randn(101) 資料內的隨機\n",
>>>>>>> 3ec3037df420fe804586172d726c2442227f9315
    "\n",
    "plt.plot(x_lin, y, 'b.', label = 'data points')\n",
    "plt.title(\"Assume we have data points\")\n",
    "plt.legend(loc = 2)\n",
    "plt.show()"
   ]
  },
  {
   "cell_type": "code",
<<<<<<< HEAD
   "execution_count": null,
   "metadata": {},
   "outputs": [],
=======
   "execution_count": 3,
   "metadata": {},
   "outputs": [
    {
     "data": {
      "image/png": "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\n",
      "text/plain": [
       "<Figure size 432x288 with 1 Axes>"
      ]
     },
     "metadata": {
      "needs_background": "light"
     },
     "output_type": "display_data"
    }
   ],
>>>>>>> 3ec3037df420fe804586172d726c2442227f9315
   "source": [
    "y_hat = x_lin * w + b\n",
    "plt.plot(x_lin, y, 'b.', label = 'data')\n",
    "plt.plot(x_lin, y_hat, 'r-', label = 'prediction')\n",
    "plt.title(\"Assume we have data points (And the prediction)\")\n",
    "plt.legend(loc = 2)\n",
    "plt.show()"
   ]
  },
  {
   "cell_type": "code",
<<<<<<< HEAD
   "execution_count": null,
   "metadata": {},
   "outputs": [],
   "source": [
=======
   "execution_count": 4,
   "metadata": {},
   "outputs": [],
   "source": [
    "def mean_squared_error(y,yp):\n",
    "    #sum(pow(y - yp, 2)) / len(y)\n",
    "    mse = MSE = sum(pow(y - yp, 2)) / len(y)\n",
    "    return mse"
   ]
  },
  {
   "cell_type": "code",
   "execution_count": 5,
   "metadata": {},
   "outputs": [],
   "source": [
    "def mean_absolute_error(y, yp):\n",
    "    \"\"\"\n",
    "    計算 MAE\n",
    "    Args:\n",
    "        - y: 實際值\n",
    "        - yp: 預測值\n",
    "    Return:\n",
    "        - mae: MAE\n",
    "    \"\"\"\n",
    "    mae = MAE = sum(abs(y - yp)) / len(y)\n",
    "    return mae"
   ]
  },
  {
   "cell_type": "code",
   "execution_count": 6,
   "metadata": {},
   "outputs": [
    {
     "name": "stdout",
     "output_type": "stream",
     "text": [
      "The Mean squared error is 205.227\n",
      "The Mean absolute error is 11.911\n"
     ]
    }
   ],
   "source": [
>>>>>>> 3ec3037df420fe804586172d726c2442227f9315
    "# 執行 Function, 確認有沒有正常執行\n",
    "MSE = mean_squared_error(y, y_hat)\n",
    "MAE = mean_absolute_error(y, y_hat)\n",
    "print(\"The Mean squared error is %.3f\" % (MSE))\n",
    "print(\"The Mean absolute error is %.3f\" % (MAE))"
   ]
  }
 ],
 "metadata": {
  "anaconda-cloud": {},
  "kernelspec": {
<<<<<<< HEAD
   "display_name": "Python [default]",
=======
   "display_name": "Python 3",
>>>>>>> 3ec3037df420fe804586172d726c2442227f9315
   "language": "python",
   "name": "python3"
  },
  "language_info": {
   "codemirror_mode": {
    "name": "ipython",
    "version": 3
   },
   "file_extension": ".py",
   "mimetype": "text/x-python",
   "name": "python",
   "nbconvert_exporter": "python",
   "pygments_lexer": "ipython3",
<<<<<<< HEAD
   "version": "3.5.6"
=======
   "version": "3.7.1"
>>>>>>> 3ec3037df420fe804586172d726c2442227f9315
  }
 },
 "nbformat": 4,
 "nbformat_minor": 1
}
